{
 "cells": [
  {
   "cell_type": "markdown",
   "metadata": {},
   "source": [
    "## 4-е домашнее задание - Библиотека numpy\n",
    "\n",
    "Подпишите этот блокнот: укажите ФИО и номер группы. Выполненное задание загрузите в свой репозиторий «<b>Spring2023Python</b>» в github в папку \"<b>homework04</b>\".  \n",
    "\n",
    "Перед выполнением этого домашнего задания полезно прочитать про возможности и основные методы библиотеки numpy:  \n",
    "http://acm.mipt.ru/twiki/bin/view/Cintro/PythonNumpy  \n"
   ]
  },
  {
   "cell_type": "markdown",
   "metadata": {},
   "source": [
    "1.\tСоздайте равномерное разбиение интервала от -1.3 до 2.5 на 64 отрезка."
   ]
  },
  {
   "cell_type": "code",
   "execution_count": 11,
   "metadata": {},
   "outputs": [
    {
     "name": "stdout",
     "output_type": "stream",
     "text": [
      "[-1.3      -1.240625 -1.18125  -1.121875 -1.0625   -1.003125 -0.94375\n",
      " -0.884375 -0.825    -0.765625 -0.70625  -0.646875 -0.5875   -0.528125\n",
      " -0.46875  -0.409375 -0.35     -0.290625 -0.23125  -0.171875 -0.1125\n",
      " -0.053125  0.00625   0.065625  0.125     0.184375  0.24375   0.303125\n",
      "  0.3625    0.421875  0.48125   0.540625  0.6       0.659375  0.71875\n",
      "  0.778125  0.8375    0.896875  0.95625   1.015625  1.075     1.134375\n",
      "  1.19375   1.253125  1.3125    1.371875  1.43125   1.490625  1.55\n",
      "  1.609375  1.66875   1.728125  1.7875    1.846875  1.90625   1.965625\n",
      "  2.025     2.084375  2.14375   2.203125  2.2625    2.321875  2.38125\n",
      "  2.440625  2.5     ]\n"
     ]
    }
   ],
   "source": [
    "import numpy as np\n",
    "arr = np.linspace(-1.3, 2.5, 65)\n",
    "print(arr)"
   ]
  },
  {
   "cell_type": "markdown",
   "metadata": {},
   "source": [
    "2.\tСгенерируйте numpy массив длины $3n$, заполненный циклически числами 1, 2, 3, 1, 2, 3, 1...."
   ]
  },
  {
   "cell_type": "code",
   "execution_count": 12,
   "metadata": {},
   "outputs": [
    {
     "name": "stdout",
     "output_type": "stream",
     "text": [
      "5\n",
      "[1 2 3 1 2 3 1 2 3 1 2 3 1 2 3]\n"
     ]
    }
   ],
   "source": [
    "n = int(input())\n",
    "print(np.array([1, 2, 3] * n))"
   ]
  },
  {
   "cell_type": "markdown",
   "metadata": {},
   "source": [
    "3.\tСоздайте массив первых 10 нечетных целых чисел."
   ]
  },
  {
   "cell_type": "code",
   "execution_count": 13,
   "metadata": {},
   "outputs": [
    {
     "name": "stdout",
     "output_type": "stream",
     "text": [
      "[ 1  3  5  7  9 11 13 15 17 19]\n"
     ]
    }
   ],
   "source": [
    "print(np.arange(1, 20, 2))"
   ]
  },
  {
   "cell_type": "markdown",
   "metadata": {},
   "source": [
    "4.  Создайте массив нулей размера 10 x 10, а затем создайте в нём \"рамку\" из единиц по краям."
   ]
  },
  {
   "cell_type": "code",
   "execution_count": 14,
   "metadata": {},
   "outputs": [
    {
     "name": "stdout",
     "output_type": "stream",
     "text": [
      "[[1. 1. 1. 1. 1. 1. 1. 1. 1. 1.]\n",
      " [1. 0. 0. 0. 0. 0. 0. 0. 0. 1.]\n",
      " [1. 0. 0. 0. 0. 0. 0. 0. 0. 1.]\n",
      " [1. 0. 0. 0. 0. 0. 0. 0. 0. 1.]\n",
      " [1. 0. 0. 0. 0. 0. 0. 0. 0. 1.]\n",
      " [1. 0. 0. 0. 0. 0. 0. 0. 0. 1.]\n",
      " [1. 0. 0. 0. 0. 0. 0. 0. 0. 1.]\n",
      " [1. 0. 0. 0. 0. 0. 0. 0. 0. 1.]\n",
      " [1. 0. 0. 0. 0. 0. 0. 0. 0. 1.]\n",
      " [1. 1. 1. 1. 1. 1. 1. 1. 1. 1.]]\n"
     ]
    }
   ],
   "source": [
    "arr = np.ones((10, 10))\n",
    "arr[1:9, 1:9] = 0\n",
    "print(arr)"
   ]
  },
  {
   "cell_type": "markdown",
   "metadata": {},
   "source": [
    "5.  Создайте массив 8 x 8 с шахматной доской из нулей и единиц."
   ]
  },
  {
   "cell_type": "code",
   "execution_count": 15,
   "metadata": {},
   "outputs": [
    {
     "name": "stdout",
     "output_type": "stream",
     "text": [
      "[[1. 0. 1. 0. 1. 0. 1. 0.]\n",
      " [0. 1. 0. 1. 0. 1. 0. 1.]\n",
      " [1. 0. 1. 0. 1. 0. 1. 0.]\n",
      " [0. 1. 0. 1. 0. 1. 0. 1.]\n",
      " [1. 0. 1. 0. 1. 0. 1. 0.]\n",
      " [0. 1. 0. 1. 0. 1. 0. 1.]\n",
      " [1. 0. 1. 0. 1. 0. 1. 0.]\n",
      " [0. 1. 0. 1. 0. 1. 0. 1.]]\n"
     ]
    }
   ],
   "source": [
    "arr = np.zeros((8, 8))\n",
    "arr[::2, ::2] = 1\n",
    "arr[1::2, 1::2] = 1\n",
    "print(arr)"
   ]
  },
  {
   "cell_type": "markdown",
   "metadata": {},
   "source": [
    "6.  Создайте функцию, которая создает $n×n$ матрицу с $(i,j)$-элементом, равным $i+j$."
   ]
  },
  {
   "cell_type": "code",
   "execution_count": 16,
   "metadata": {},
   "outputs": [
    {
     "name": "stdout",
     "output_type": "stream",
     "text": [
      "5\n",
      "[[0. 1. 2. 3. 4.]\n",
      " [1. 2. 3. 4. 5.]\n",
      " [2. 3. 4. 5. 6.]\n",
      " [3. 4. 5. 6. 7.]\n",
      " [4. 5. 6. 7. 8.]]\n"
     ]
    }
   ],
   "source": [
    "def make_answer(n):\n",
    "    a = np.ones((n,n)) * np.linspace(0, n - 1, n)\n",
    "    b = a.transpose()\n",
    "    return a + b\n",
    "n = int(input())\n",
    "print(make_answer(n))"
   ]
  },
  {
   "cell_type": "markdown",
   "metadata": {},
   "source": [
    "7. Примените функцию dot для перемножения вектор на вектор, матрицу на вектор и матрицу на матрицу."
   ]
  },
  {
   "cell_type": "code",
   "execution_count": 17,
   "metadata": {},
   "outputs": [
    {
     "name": "stdout",
     "output_type": "stream",
     "text": [
      "[0.   1.25 2.5  3.75 5.  ]\n",
      "\n",
      "[[5. 6. 7. 8. 9.]\n",
      " [5. 6. 7. 8. 9.]\n",
      " [5. 6. 7. 8. 9.]\n",
      " [5. 6. 7. 8. 9.]\n",
      " [5. 6. 7. 8. 9.]]\n",
      "\n",
      "46.875\n",
      "\n",
      "[100. 100. 100. 100. 100.]\n",
      "\n",
      "[[175. 210. 245. 280. 315.]\n",
      " [175. 210. 245. 280. 315.]\n",
      " [175. 210. 245. 280. 315.]\n",
      " [175. 210. 245. 280. 315.]\n",
      " [175. 210. 245. 280. 315.]]\n"
     ]
    }
   ],
   "source": [
    "vector = np.linspace(0, 5, 5)\n",
    "matrix = np.ones((5,5)) * np.linspace(5, 9, 5)\n",
    "print(vector)\n",
    "print()\n",
    "print(matrix)\n",
    "print()\n",
    "print(np.dot(vector, vector))\n",
    "print()\n",
    "print(np.dot(matrix, vector))\n",
    "print()\n",
    "print(np.dot(matrix, matrix))"
   ]
  },
  {
   "cell_type": "markdown",
   "metadata": {},
   "source": [
    "8. Вычислите cos(x) и sin(x) на интервале [0,1] с шагом $0.05$, а затем объедините оба массива чисел как строки в один массив."
   ]
  },
  {
   "cell_type": "code",
   "execution_count": 18,
   "metadata": {},
   "outputs": [
    {
     "name": "stdout",
     "output_type": "stream",
     "text": [
      "[1.         0.99875026 0.99500417 0.98877108 0.98006658 0.96891242\n",
      " 0.95533649 0.93937271 0.92106099 0.9004471  0.87758256 0.85252452\n",
      " 0.82533561 0.7960838  0.76484219 0.73168887 0.69670671 0.65998315\n",
      " 0.62160997 0.58168309 0.54030231 0.         0.04997917 0.09983342\n",
      " 0.14943813 0.19866933 0.24740396 0.29552021 0.34289781 0.38941834\n",
      " 0.43496553 0.47942554 0.52268723 0.56464247 0.60518641 0.64421769\n",
      " 0.68163876 0.71735609 0.75128041 0.78332691 0.8134155  0.84147098]\n"
     ]
    }
   ],
   "source": [
    "arr_sin = np.sin(np.arange(0, 1.01, 0.05))\n",
    "arr_cos = np.cos(np.arange(0, 1.01, 0.05))\n",
    "answer = np.hstack((arr_cos, arr_sin))\n",
    "print(answer)"
   ]
  },
  {
   "cell_type": "markdown",
   "metadata": {},
   "source": [
    "9. Создайте матрицу $A$ размера $3×5$ из случайных чисел с равномерным распределением на отрезке $[-1,3]$ (используйте np.random.rand)"
   ]
  },
  {
   "cell_type": "code",
   "execution_count": 19,
   "metadata": {},
   "outputs": [
    {
     "name": "stdout",
     "output_type": "stream",
     "text": [
      "[[ 2.48346445  1.90714519 -0.97473559 -0.21141753  1.52433311]\n",
      " [ 0.7003805  -0.2072258   0.55226602  2.67017167  2.27201919]\n",
      " [ 0.6749388   1.53875927 -0.17768055  1.8458741   0.08491927]]\n"
     ]
    }
   ],
   "source": [
    "A = np.random.rand(3, 5) * 4 - 1\n",
    "print(A)"
   ]
  },
  {
   "cell_type": "markdown",
   "metadata": {},
   "source": [
    "10. Найдите сумму всех элементов, сумму внутри строк, сумму внутри столбцов, а также среднее значение, дисперсию и стандартное отклонение чисел для каждой строки матрицы $A$. (Подобно тому, как sorted имеет необязательный аргумент key=, многие функции Numpy имеют необязательный аргумент axis=)\n"
   ]
  },
  {
   "cell_type": "code",
   "execution_count": 20,
   "metadata": {},
   "outputs": [
    {
     "name": "stdout",
     "output_type": "stream",
     "text": [
      "14.683212102705792 \n",
      "\n",
      "[4.72878963 5.98761158 3.9668109 ] \n",
      "\n",
      "[ 3.85878375  3.23867866 -0.60015011  4.30462824  3.88127157] \n",
      "\n",
      "[0.94575793 1.19752232 0.79336218] \n",
      "\n",
      "[1.73018129 1.19201252 0.62444752] \n",
      "\n",
      "[1.31536356 1.09179326 0.79021992] \n",
      "\n"
     ]
    }
   ],
   "source": [
    "sum_all = np.sum(A)\n",
    "print(sum_all, \"\\n\")\n",
    "\n",
    "sum_i = np.sum(A, axis=1)\n",
    "print(sum_i, \"\\n\")\n",
    "\n",
    "sum_j = np.sum(A, axis=0)\n",
    "print(sum_j, \"\\n\")\n",
    "\n",
    "mean_i = np.mean(A, axis=1)\n",
    "print(mean_i, \"\\n\")\n",
    "\n",
    "var_i = np.var(A, axis=1)\n",
    "print(var_i, \"\\n\")\n",
    "\n",
    "std_i = np.std(A, axis=1)\n",
    "print(std_i, \"\\n\")"
   ]
  },
  {
   "cell_type": "markdown",
   "metadata": {},
   "source": [
    "11.  Отнимите от каждого элемента матрицы $A$ среднее по строке и поделите на стандартное отклонение строки."
   ]
  },
  {
   "cell_type": "code",
   "execution_count": 21,
   "metadata": {},
   "outputs": [
    {
     "data": {
      "text/plain": [
       "array([[ 1.16903537,  0.73089091, -1.46004768, -0.87973812,  0.43985952],\n",
       "       [-0.45534428, -1.28664296, -0.59100593,  1.34883536,  0.98415782],\n",
       "       [-0.14986129,  0.94327803, -1.22882593,  1.33192279, -0.89651361]])"
      ]
     },
     "execution_count": 21,
     "metadata": {},
     "output_type": "execute_result"
    }
   ],
   "source": [
    "A = ((A.transpose() - mean_i) / std_i).transpose()\n",
    "A"
   ]
  },
  {
   "cell_type": "markdown",
   "metadata": {},
   "source": [
    "12. Отсортируйте матрицу $A$ по 3-ому столбцу, т.е. поменяйте местами строки матрицы так, чтобы 3-й столбец оказался отсортированным. Используйте для этого slicing + argsort + indexing."
   ]
  },
  {
   "cell_type": "code",
   "execution_count": 22,
   "metadata": {},
   "outputs": [
    {
     "name": "stdout",
     "output_type": "stream",
     "text": [
      "[-1.46004768 -0.59100593 -1.22882593] \n",
      "\n",
      "[0 2 1] \n",
      "\n",
      "[[ 1.16903537  0.73089091 -1.46004768 -0.87973812  0.43985952]\n",
      " [-0.14986129  0.94327803 -1.22882593  1.33192279 -0.89651361]\n",
      " [-0.45534428 -1.28664296 -0.59100593  1.34883536  0.98415782]]\n"
     ]
    }
   ],
   "source": [
    "a = A[::, 2]\n",
    "print(a, \"\\n\")\n",
    "b = np.argsort(a, axis=0)\n",
    "print(b, \"\\n\")\n",
    "A = A[b]\n",
    "print(A)"
   ]
  },
  {
   "cell_type": "markdown",
   "metadata": {},
   "source": [
    "13. Посчитайте две матрицы: $B = A^TA$ и $C = AA^T$. Что вы можете о них сказать? Какого они размера? В чём их сходство и отличие?"
   ]
  },
  {
   "cell_type": "code",
   "execution_count": 23,
   "metadata": {},
   "outputs": [
    {
     "name": "stdout",
     "output_type": "stream",
     "text": [
      "[[ 1.16903537 -0.14986129 -0.45534428]\n",
      " [ 0.73089091  0.94327803 -1.28664296]\n",
      " [-1.46004768 -1.22882593 -0.59100593]\n",
      " [-0.87973812  1.33192279  1.34883536]\n",
      " [ 0.43985952 -0.89651361  0.98415782]] \n",
      "\n",
      "[[ 1.59644052  1.29894198 -1.25358277 -1.84223312  0.20043339]\n",
      " [ 1.29894198  3.07942509 -1.46584646 -1.12208861 -1.790432  ]\n",
      " [-1.25358277 -1.46584646  3.99104042 -1.14941137 -0.12219982]\n",
      " [-1.84223312 -1.12208861 -1.14941137  4.36731432 -0.25358122]\n",
      " [ 0.20043339 -1.790432   -0.12219982 -0.25358122  1.96577966]] \n",
      "\n",
      " [[ 5.          0.74230135 -1.36354307]\n",
      " [ 0.74230135  5.          0.49505354]\n",
      " [-1.36354307  0.49505354  5.        ]]\n"
     ]
    }
   ],
   "source": [
    "A_trans = np.transpose(A)\n",
    "print(A_trans, \"\\n\")\n",
    "B = np.dot(A_trans, A)\n",
    "C = np.dot(A, A_trans)\n",
    "print(B, \"\\n\\n\", C)"
   ]
  },
  {
   "cell_type": "markdown",
   "metadata": {},
   "source": [
    "14. Найдите сумму диагональных элементов матриц $B$ и $C$."
   ]
  },
  {
   "cell_type": "code",
   "execution_count": 24,
   "metadata": {},
   "outputs": [
    {
     "data": {
      "text/plain": [
       "30.0"
      ]
     },
     "execution_count": 24,
     "metadata": {},
     "output_type": "execute_result"
    }
   ],
   "source": [
    "np.sum(B * np.eye(5)) + np.sum(C * np.eye(3))"
   ]
  },
  {
   "cell_type": "markdown",
   "metadata": {},
   "source": [
    "15.\tПосчитайте детерминант и ранг матриц $A$, $B$ и $C$, посмотрите на спектр (набор собственных значений) матриц $B$ и $C$, какие выводы вы можете сделать?  \n",
    "(подсказка: используйте готовые функции из библиотеки np.linalg). \n"
   ]
  },
  {
   "cell_type": "code",
   "execution_count": 25,
   "metadata": {},
   "outputs": [
    {
     "name": "stdout",
     "output_type": "stream",
     "text": [
      "[[ 1.16903537  0.73089091 -1.46004768 -0.87973812  0.43985952]\n",
      " [-0.14986129  0.94327803 -1.22882593  1.33192279 -0.89651361]\n",
      " [-0.45534428 -1.28664296 -0.59100593  1.34883536  0.98415782]] \n",
      "\n",
      " [[ 1.59644052  1.29894198 -1.25358277 -1.84223312  0.20043339]\n",
      " [ 1.29894198  3.07942509 -1.46584646 -1.12208861 -1.790432  ]\n",
      " [-1.25358277 -1.46584646  3.99104042 -1.14941137 -0.12219982]\n",
      " [-1.84223312 -1.12208861 -1.14941137  4.36731432 -0.25358122]\n",
      " [ 0.20043339 -1.790432   -0.12219982 -0.25358122  1.96577966]] \n",
      "\n",
      " [[ 5.          0.74230135 -1.36354307]\n",
      " [ 0.74230135  5.          0.49505354]\n",
      " [-1.36354307  0.49505354  5.        ]] \n",
      "\n",
      "Детерминанты: A = нельзя найти, так как A не квадратная , B = 4.234268926886637e-30 , C = 110.72115839539953 \n",
      "\n",
      "Ранги: A = 3 , B = 3 , C = 3 \n",
      "\n",
      "Спектры: B = [ 3.20715094e+00  6.39100331e+00  5.40184575e+00 -4.63148454e-16\n",
      "  4.81204910e-16] , C = [3.20715094 6.39100331 5.40184575]\n"
     ]
    }
   ],
   "source": [
    "print(A, \"\\n\\n\", B, \"\\n\\n\", C, \"\\n\")\n",
    "print(\"Детерминанты: A = нельзя найти, так как A не квадратная\", \", B =\", np.linalg.det(B), \", C =\", np.linalg.det(C), \"\\n\")\n",
    "print(\"Ранги: A =\", np.linalg.linalg.matrix_rank(A), \", B =\", np.linalg.linalg.matrix_rank(B), \", C =\", np.linalg.linalg.matrix_rank(C), \"\\n\")\n",
    "print(\"Спектры: B =\", np.linalg.eigvals(B), \", C =\", np.linalg.eigvals(C))"
   ]
  },
  {
   "cell_type": "markdown",
   "metadata": {},
   "source": [
    "16. Численно посчитать определённый интеграл  3-мя методами:  \n",
    "a)\tПрямоугольников $\\int\\limits_a^b {f(x)dx \\approx \\Delta x\\sum\\limits_{k = 0}^N {f({x_k})} }$  \n",
    "b)\tТрапеций $\\int\\limits_a^b {f(x)dx \\approx \\frac{{\\Delta x}}{2}\\left( {f({x_0}) + 2\\sum\\limits_{k = 1}^{N - 1} {f({x_k})}  + f({x_N})} \\right)}$  \n",
    "c)\tПо правилу Симпсона  $\\int\\limits_a^b {f(x)dx \\approx \\frac{{\\Delta x}}{3}\\left( {f({x_0}) + 2\\sum\\limits_{k = 1}^{N/2 - 1} {f({x_{2k}})}  + 4\\sum\\limits_{k = 1}^{N/2} {f({x_{2k - 1}})}  + f({x_N})} \\right)}$  \n",
    "\n",
    "\n",
    "В реализации этих методов цикл for для суммирования использовать нельзя.  \n",
    "Нужно посчитать значение интеграла с некоторым шагом интегрирования (например начать с 0.1), потом уменьшить его в десять раз и ещё раз посчитать и так до тех пор пока отличие в ответах будет в 5-м знаке после запятой, т.е. чтобы ошибка была меньше 1e-5. Получить ответы для 3-х разных методов и сделать соответствующие выводы.  \n",
    "\n",
    "Далее необходимо сравнить полученные оценки с аналитическим решением (т.е. формульным, которое вы должны сами посчитать на листочке и вбить формулу-ответ).   \n",
    "\n",
    "В качестве интеграла взять два из следующих примеров:  \n",
    "- один с номером, сгенерированным случайным образом с помощью функции np.random.randint(9), в качестве seed для генератора случайных чисел взять номер своего студенческого билета. \n",
    "- второй номер - под номером 9, несобственный интерграл. Подумайте, как сделать подбор шага интегрирования адаптивным.\n",
    "\n",
    "<table width=\"80%\"\n",
    "       align=\"center\">\n",
    "    <tr>\n",
    "        <td> 0) $\\int\\limits_3^4 {\\frac{{{x^2} + 3}}{{x - 2}}dx}$ </td>\n",
    "        <td> 1) $\\int\\limits_{ - 2}^{ - 1} {\\frac{{x + 1}}{{{x^3} - {x^2}}}dx}$ </td>\n",
    "        <td> 2) $\\int\\limits_1^2 {\\frac{{{e^{1/{x^2}}}}}{{{x^3}}}dx}$ </td>\n",
    "        <td> 3) $\\int\\limits_1^e {\\frac{{\\cos (\\ln x)}}{x}dx}$ </td>\n",
    "        <td> 4) $\\int\\limits_1^e {\\frac{{dx}}{{x(1 + {{\\ln }^2}x)}}}$ </td>\n",
    "    </tr>                \n",
    "    <tr>\n",
    "        <td> 5) $\\int\\limits_0^{\\pi /2} {{{\\cos }^3}\\alpha \\;d\\alpha }$ </td>\n",
    "        <td> 6) $\\int\\limits_0^{1/3} {c{h^2}3x\\;dx}$ </td>\n",
    "        <td> 7) $\\int\\limits_2^3 {\\frac{{dy}}{{{y^2} - 2y - 8}}dy}$ </td>\n",
    "        <td> 8) $\\int\\limits_0^2 {\\frac{{2x - 1}}{{2x + 1}}dx}$ </td>\n",
    "        <td> 9) $\\int\\limits_{3/4}^2 {\\frac{{dx}}{{\\sqrt {2 + 3x - 2{x^2}} }}}$ </td>\n",
    "        </tr>\n",
    "</table>"
   ]
  },
  {
   "cell_type": "code",
   "execution_count": 26,
   "metadata": {},
   "outputs": [],
   "source": [
    "def count_rectangular_method(delta_x, x):\n",
    "    return delta_x * sum(f(x))\n",
    "def count_trapezoid_method(delta_x, x):\n",
    "    return delta_x / 2 * (f(x[0]) + 2 * sum(f(x[1:-1])) + f(x[-1]))\n",
    "def count_simpson_method(delta_x, x):\n",
    "    return delta_x / 3 * (f(x[0]) + 2 * sum(f(x[2:-1:2])) + 4 * sum(f(x[1:-1:2])) + f(x[-1]))"
   ]
  },
  {
   "cell_type": "code",
   "execution_count": 27,
   "metadata": {},
   "outputs": [
    {
     "name": "stdout",
     "output_type": "stream",
     "text": [
      "Мой вариант = 2\n",
      "Точный ответ = 0.717128205886\n",
      "Количество итераций метода прямоугольников для 2 варианта = 6 . Ответ =  0.7171296453250654\n",
      "Количество итераций метода трапеций для 2 варианта = 3 . Ответ =  0.7171293150953367\n",
      "Количество итераций метода трапеций для 2 варианта = 2 . Ответ =  0.7171282495037866\n"
     ]
    }
   ],
   "source": [
    "def get_variant(my_seed):\n",
    "    np.random.seed(my_seed)\n",
    "    return np.random.randint(9)\n",
    "def f(x):\n",
    "    return (np.e ** (1 / (x ** 2))) / x ** 3\n",
    "variant = get_variant(1032201717)\n",
    "print(\"Мой вариант =\", variant)\n",
    "greh = 0.00001\n",
    "correct = 0.717128205886\n",
    "start = 1\n",
    "end = 2.00000001\n",
    "print(\"Точный ответ =\", correct)\n",
    "use_rectangular_method()\n",
    "use_trapezoid_method()\n",
    "use_simpson_method()"
   ]
  },
  {
   "cell_type": "code",
   "execution_count": 28,
   "metadata": {},
   "outputs": [
    {
     "name": "stdout",
     "output_type": "stream",
     "text": [
      "My variant: 9\n",
      "Точный ответ = 1.11072073454\n",
      "Погрешность метода прямоугольников для 9 варианта = 9.974242836330305e-06 . Ответ =  1.1107307087828364\n",
      "Погрешность метода трапеции для 9 варианта = 8.12868665800437e-06 . Ответ =  1.110712605853342\n",
      "Погрешность метода Симпсона для 9 варианта = 1.687887753210049e-05 . Ответ =  1.110703855662468\n"
     ]
    }
   ],
   "source": [
    "def f(x):\n",
    "    return 1 / (np.sqrt(2 + 3 * x - 2 * x ** 2))\n",
    "variant = 9\n",
    "print(\"My variant:\", variant)\n",
    "correct = 1.11072073454\n",
    "end_array = [1.8, 1.99, 2 - 0.00000000000001]\n",
    "delta_array = [0.000001, 0.0000001, 0.000000001]\n",
    "print(\"Точный ответ =\", correct)\n",
    "use_rectangular_method_9()\n",
    "use_trapezoid_method_9()\n",
    "use_simpson_method_9()"
   ]
  },
  {
   "cell_type": "code",
   "execution_count": 29,
   "metadata": {},
   "outputs": [],
   "source": [
    "def use_rectangular_method():\n",
    "    delta = 0.1\n",
    "    x_array = np.arange(start, end, delta)\n",
    "    rectangular_method = count_rectangular_method(delta, x_array)\n",
    "    n = 1\n",
    "    while abs(correct - rectangular_method) > greh:\n",
    "        delta /= 10\n",
    "        x_array = np.arange(start, end, delta)\n",
    "        rectangular_method = count_rectangular_method(delta, x_array)\n",
    "        n += 1\n",
    "    print(\"Количество итераций метода прямоугольников для\", variant, \"варианта =\",n, \". Ответ = \", rectangular_method)\n",
    "\n",
    "def use_trapezoid_method():\n",
    "    delta = 0.1\n",
    "    x_array = np.arange(start, end, delta)\n",
    "    trapezoid_method = count_trapezoid_method(delta, x_array)\n",
    "    n = 1\n",
    "    while abs(correct - trapezoid_method) > greh:\n",
    "        delta /= 10\n",
    "        x_array = np.arange(start, end, delta)\n",
    "        trapezoid_method = count_trapezoid_method(delta, x_array)\n",
    "        n += 1\n",
    "    print(\"Количество итераций метода трапеций для\", variant, \"варианта =\",n, \". Ответ = \", trapezoid_method)\n",
    "\n",
    "def use_simpson_method():\n",
    "    delta = 0.1\n",
    "    x_array = np.arange(start, end, delta)\n",
    "    simpson_method = count_simpson_method(delta, x_array)\n",
    "    n = 1\n",
    "    while abs(correct - simpson_method) > greh:\n",
    "        delta /= 10\n",
    "        x_array = np.arange(start, end, delta)\n",
    "        simpson_method = count_simpson_method(delta, x_array)\n",
    "        n += 1\n",
    "    print(\"Количество итераций метода трапеций для\", variant, \"варианта =\",n, \". Ответ = \", simpson_method)"
   ]
  },
  {
   "cell_type": "code",
   "execution_count": 30,
   "metadata": {},
   "outputs": [],
   "source": [
    "def use_rectangular_method_9():\n",
    "    start = 3 / 4\n",
    "    rectangular_method = 0\n",
    "    k = 0\n",
    "    while k < len(end_array):\n",
    "        delta = delta_array[k]\n",
    "        x_array = np.arange(start, end_array[k], delta)\n",
    "        rectangular_method += count_rectangular_method(delta, x_array)\n",
    "        start = end_array[k]\n",
    "        k += 1\n",
    "    print(\"Погрешность метода прямоугольников для\", variant, \"варианта =\", abs(correct - rectangular_method), \". Ответ = \", rectangular_method)\n",
    "def use_trapezoid_method_9():\n",
    "    start = 3 / 4\n",
    "    trapezoid_method = 0\n",
    "    k = 0\n",
    "    while k < len(end_array):\n",
    "        delta = delta_array[k]\n",
    "        x_array = np.arange(start, end_array[k], delta)\n",
    "        trapezoid_method += count_trapezoid_method(delta, x_array)\n",
    "        start = end_array[k]\n",
    "        k += 1\n",
    "    print(\"Погрешность метода трапеции для\", variant, \"варианта =\", abs(correct - trapezoid_method), \". Ответ = \", trapezoid_method)\n",
    "def use_simpson_method_9():\n",
    "    start = 3 / 4\n",
    "    simpson_method = 0\n",
    "    k = 0\n",
    "    while k < len(end_array):\n",
    "        delta = delta_array[k]\n",
    "        x_array = np.arange(start, end_array[k], delta)\n",
    "        simpson_method += count_simpson_method(delta, x_array)\n",
    "        start = end_array[k]\n",
    "        k += 1\n",
    "    print(\"Погрешность метода Симпсона для\", variant, \"варианта =\", abs(correct - simpson_method), \". Ответ = \", simpson_method)\n"
   ]
  },
  {
   "cell_type": "code",
   "execution_count": null,
   "metadata": {},
   "outputs": [],
   "source": []
  },
  {
   "cell_type": "code",
   "execution_count": null,
   "metadata": {},
   "outputs": [],
   "source": []
  },
  {
   "cell_type": "code",
   "execution_count": null,
   "metadata": {},
   "outputs": [],
   "source": []
  }
 ],
 "metadata": {
  "kernelspec": {
   "display_name": "Python 3 (ipykernel)",
   "language": "python",
   "name": "python3"
  },
  "language_info": {
   "codemirror_mode": {
    "name": "ipython",
    "version": 3
   },
   "file_extension": ".py",
   "mimetype": "text/x-python",
   "name": "python",
   "nbconvert_exporter": "python",
   "pygments_lexer": "ipython3",
   "version": "3.9.12"
  }
 },
 "nbformat": 4,
 "nbformat_minor": 2
}
