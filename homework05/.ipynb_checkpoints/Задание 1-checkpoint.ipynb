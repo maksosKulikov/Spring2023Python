{
 "cells": [
  {
   "cell_type": "markdown",
   "id": "d2f7114b",
   "metadata": {},
   "source": [
    "1) Четные индексы. 1 строка"
   ]
  },
  {
   "cell_type": "code",
   "execution_count": 1,
   "id": "d92a8f72",
   "metadata": {},
   "outputs": [
    {
     "name": "stdout",
     "output_type": "stream",
     "text": [
      "1 2 3 4 5\n",
      "1 3 5\n"
     ]
    }
   ],
   "source": [
    "print(*input().split()[::2])"
   ]
  },
  {
   "cell_type": "markdown",
   "id": "83298b30",
   "metadata": {},
   "source": [
    "2) Наибольший элемент и его индекс. 2 строки"
   ]
  },
  {
   "cell_type": "code",
   "execution_count": 70,
   "id": "d986ebb9",
   "metadata": {},
   "outputs": [
    {
     "name": "stdout",
     "output_type": "stream",
     "text": [
      "1 2 3 2 1 \n",
      "3 2\n"
     ]
    }
   ],
   "source": [
    "a = list(map(int, input().split()))\n",
    "print(max(a), a.index(max(a)))"
   ]
  },
  {
   "cell_type": "markdown",
   "id": "9964af1d",
   "metadata": {},
   "source": [
    "3) Вывести в обратном порядке. 1 строка"
   ]
  },
  {
   "cell_type": "code",
   "execution_count": 71,
   "id": "588fa2fd",
   "metadata": {},
   "outputs": [
    {
     "name": "stdout",
     "output_type": "stream",
     "text": [
      "1 2 3 4 5 \n",
      "5 4 3 2 1\n"
     ]
    }
   ],
   "source": [
    "print(*list(reversed(input().split())))"
   ]
  },
  {
   "cell_type": "markdown",
   "id": "2021a2f8",
   "metadata": {},
   "source": [
    "4) Переставить соседние. 3 строки"
   ]
  },
  {
   "cell_type": "code",
   "execution_count": 83,
   "id": "02d048a4",
   "metadata": {},
   "outputs": [
    {
     "name": "stdout",
     "output_type": "stream",
     "text": [
      "1 2 3 4 5 6\n",
      "2 1 4 3 6 5\n"
     ]
    }
   ],
   "source": [
    "a = input().split()\n",
    "a[1::2], a[:-1:2] = a[:-1:2], a[1::2]\n",
    "print(*a)"
   ]
  },
  {
   "cell_type": "markdown",
   "id": "03a4ab8b",
   "metadata": {},
   "source": [
    "5) Циклический сдвиг вправо. 2 строки "
   ]
  },
  {
   "cell_type": "code",
   "execution_count": 78,
   "id": "10b60250",
   "metadata": {},
   "outputs": [
    {
     "name": "stdout",
     "output_type": "stream",
     "text": [
      "1 2 3 4 5\n",
      "5 1 2 3 4\n"
     ]
    }
   ],
   "source": [
    "a = input().split()\n",
    "print(*a[-1:] + a[:-1])"
   ]
  },
  {
   "cell_type": "markdown",
   "id": "55ad92af",
   "metadata": {},
   "source": [
    "6) Удалить элемент. 3 строки "
   ]
  },
  {
   "cell_type": "code",
   "execution_count": 1,
   "id": "4335a137",
   "metadata": {},
   "outputs": [
    {
     "name": "stdout",
     "output_type": "stream",
     "text": [
      "7 6 5 4 3 2 1\n",
      "2\n",
      "7 6 4 3 2 1\n"
     ]
    }
   ],
   "source": [
    "a, del_index = input().split(), int(input())\n",
    "print(*a[:del_index] + a[del_index + 1:])"
   ]
  },
  {
   "cell_type": "markdown",
   "id": "5cb44b46",
   "metadata": {},
   "source": [
    "7) Вставить элемент. 3 строки"
   ]
  },
  {
   "cell_type": "code",
   "execution_count": 75,
   "id": "13a38e5f",
   "metadata": {},
   "outputs": [
    {
     "name": "stdout",
     "output_type": "stream",
     "text": [
      "7 6 5 4 3 2 1\n",
      "2 0\n",
      "7 6 0 5 4 3 2 1\n"
     ]
    }
   ],
   "source": [
    "a = input().split()\n",
    "n, elem = map(int, input().split()) \n",
    "print(*a[:n] + [str(elem)] + a[n:])"
   ]
  },
  {
   "cell_type": "markdown",
   "id": "c3be3713",
   "metadata": {},
   "source": [
    "8) Большой сдвиг. 2 строки"
   ]
  },
  {
   "cell_type": "code",
   "execution_count": 80,
   "id": "a2344fad",
   "metadata": {},
   "outputs": [
    {
     "name": "stdout",
     "output_type": "stream",
     "text": [
      "5 3 7 4 6\n",
      "3\n",
      "7 4 6 5 3\n"
     ]
    }
   ],
   "source": [
    "a, n = input().split(), int(input())\n",
    "print(*a[-n:] + a[:-n])"
   ]
  }
 ],
 "metadata": {
  "kernelspec": {
   "display_name": "Python 3 (ipykernel)",
   "language": "python",
   "name": "python3"
  },
  "language_info": {
   "codemirror_mode": {
    "name": "ipython",
    "version": 3
   },
   "file_extension": ".py",
   "mimetype": "text/x-python",
   "name": "python",
   "nbconvert_exporter": "python",
   "pygments_lexer": "ipython3",
   "version": "3.9.12"
  }
 },
 "nbformat": 4,
 "nbformat_minor": 5
}
